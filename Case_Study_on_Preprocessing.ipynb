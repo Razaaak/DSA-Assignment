{
  "nbformat": 4,
  "nbformat_minor": 0,
  "metadata": {
    "colab": {
      "provenance": []
    },
    "kernelspec": {
      "name": "python3",
      "display_name": "Python 3"
    },
    "language_info": {
      "name": "python"
    }
  },
  "cells": [
    {
      "cell_type": "code",
      "execution_count": null,
      "metadata": {
        "id": "syYpE85Ng8k_"
      },
      "outputs": [],
      "source": [
        "import pandas as pd\n",
        "import numpy as np\n",
        "from scipy import stats\n",
        "from sklearn.model_selection import train_test_split\n",
        "from sklearn.preprocessing import MinMaxScaler, StandardScaler, OneHotEncoder, LabelEncoder"
      ]
    },
    {
      "cell_type": "markdown",
      "source": [
        "#Dataset Overview"
      ],
      "metadata": {
        "id": "IFfjLwdziTqe"
      }
    },
    {
      "cell_type": "code",
      "source": [
        "df = pd.read_csv('House_Pricing.csv')"
      ],
      "metadata": {
        "id": "XzW8___2hXbV"
      },
      "execution_count": null,
      "outputs": []
    },
    {
      "cell_type": "code",
      "source": [
        "print(\"Initial Dataset Info:\")\n",
        "df.info()"
      ],
      "metadata": {
        "colab": {
          "base_uri": "https://localhost:8080/"
        },
        "id": "gX1VAUDPiE1d",
        "outputId": "3672f9fd-935d-401a-c7b9-9ec8c5f81057"
      },
      "execution_count": null,
      "outputs": [
        {
          "output_type": "stream",
          "name": "stdout",
          "text": [
            "Initial Dataset Info:\n",
            "<class 'pandas.core.frame.DataFrame'>\n",
            "RangeIndex: 21613 entries, 0 to 21612\n",
            "Data columns (total 21 columns):\n",
            " #   Column                                     Non-Null Count  Dtype  \n",
            "---  ------                                     --------------  -----  \n",
            " 0   ID                                         21613 non-null  int64  \n",
            " 1   Date House was Sold                        21613 non-null  object \n",
            " 2   Sale Price                                 21609 non-null  float64\n",
            " 3   No of Bedrooms                             21613 non-null  int64  \n",
            " 4   No of Bathrooms                            21609 non-null  float64\n",
            " 5   Flat Area (in Sqft)                        21604 non-null  float64\n",
            " 6   Lot Area (in Sqft)                         21604 non-null  float64\n",
            " 7   No of Floors                               21613 non-null  float64\n",
            " 8   Waterfront View                            21613 non-null  object \n",
            " 9   No of Times Visited                        2124 non-null   object \n",
            " 10  Condition of the House                     21613 non-null  object \n",
            " 11  Overall Grade                              21613 non-null  int64  \n",
            " 12  Area of the House from Basement (in Sqft)  21610 non-null  float64\n",
            " 13  Basement Area (in Sqft)                    21613 non-null  int64  \n",
            " 14  Age of House (in Years)                    21613 non-null  int64  \n",
            " 15  Renovated Year                             21613 non-null  int64  \n",
            " 16  Zipcode                                    21612 non-null  float64\n",
            " 17  Latitude                                   21612 non-null  float64\n",
            " 18  Longitude                                  21612 non-null  float64\n",
            " 19  Living Area after Renovation (in Sqft)     21612 non-null  float64\n",
            " 20  Lot Area after Renovation (in Sqft)        21613 non-null  int64  \n",
            "dtypes: float64(10), int64(7), object(4)\n",
            "memory usage: 3.5+ MB\n"
          ]
        }
      ]
    },
    {
      "cell_type": "code",
      "source": [
        "print(\"\\nInitial Dataset Description:\")\n",
        "print(df.describe())"
      ],
      "metadata": {
        "colab": {
          "base_uri": "https://localhost:8080/"
        },
        "id": "-auS7Mz8iIUl",
        "outputId": "522a1dab-a0a7-4ac2-a69d-405ebf5faa69"
      },
      "execution_count": null,
      "outputs": [
        {
          "output_type": "stream",
          "name": "stdout",
          "text": [
            "\n",
            "Initial Dataset Description:\n",
            "                 ID    Sale Price  No of Bedrooms  No of Bathrooms  \\\n",
            "count  2.161300e+04  2.160900e+04    21613.000000     21609.000000   \n",
            "mean   4.580302e+09  5.401984e+05        3.370842         2.114732   \n",
            "std    2.876566e+09  3.673890e+05        0.930062         0.770138   \n",
            "min    1.000102e+06  7.500000e+04        0.000000         0.000000   \n",
            "25%    2.123049e+09  3.219500e+05        3.000000         1.750000   \n",
            "50%    3.904930e+09  4.500000e+05        3.000000         2.250000   \n",
            "75%    7.308900e+09  6.450000e+05        4.000000         2.500000   \n",
            "max    9.900000e+09  7.700000e+06       33.000000         8.000000   \n",
            "\n",
            "       Flat Area (in Sqft)  Lot Area (in Sqft)  No of Floors  Overall Grade  \\\n",
            "count         21604.000000        2.160400e+04  21613.000000   21613.000000   \n",
            "mean           2079.931772        1.510776e+04      1.494309       7.623467   \n",
            "std             918.487597        4.142827e+04      0.539989       1.105439   \n",
            "min             290.000000        5.200000e+02      1.000000       1.000000   \n",
            "25%            1429.250000        5.040000e+03      1.000000       7.000000   \n",
            "50%            1910.000000        7.617500e+03      1.500000       7.000000   \n",
            "75%            2550.000000        1.068825e+04      2.000000       8.000000   \n",
            "max           13540.000000        1.651359e+06      3.500000      10.000000   \n",
            "\n",
            "       Area of the House from Basement (in Sqft)  Basement Area (in Sqft)  \\\n",
            "count                               21610.000000             21613.000000   \n",
            "mean                                 1788.344193               291.509045   \n",
            "std                                   827.982604               442.575043   \n",
            "min                                   290.000000                 0.000000   \n",
            "25%                                  1190.000000                 0.000000   \n",
            "50%                                  1560.000000                 0.000000   \n",
            "75%                                  2210.000000               560.000000   \n",
            "max                                  9410.000000              4820.000000   \n",
            "\n",
            "       Age of House (in Years)  Renovated Year       Zipcode      Latitude  \\\n",
            "count             21613.000000    21613.000000  21612.000000  21612.000000   \n",
            "mean                 46.994864       84.402258  98077.937766     47.560048   \n",
            "std                  29.373411      401.679240     53.505425      0.138565   \n",
            "min                   3.000000        0.000000  98001.000000     47.155900   \n",
            "25%                  21.000000        0.000000  98033.000000     47.470975   \n",
            "50%                  43.000000        0.000000  98065.000000     47.571800   \n",
            "75%                  67.000000        0.000000  98118.000000     47.678000   \n",
            "max                 118.000000     2015.000000  98199.000000     47.777600   \n",
            "\n",
            "          Longitude  Living Area after Renovation (in Sqft)  \\\n",
            "count  21612.000000                            21612.000000   \n",
            "mean    -122.213892                             1986.538914   \n",
            "std        0.140830                              685.404255   \n",
            "min     -122.519000                              399.000000   \n",
            "25%     -122.328000                             1490.000000   \n",
            "50%     -122.230000                             1840.000000   \n",
            "75%     -122.125000                             2360.000000   \n",
            "max     -121.315000                             6210.000000   \n",
            "\n",
            "       Lot Area after Renovation (in Sqft)  \n",
            "count                         21613.000000  \n",
            "mean                          12768.455652  \n",
            "std                           27304.179631  \n",
            "min                             651.000000  \n",
            "25%                            5100.000000  \n",
            "50%                            7620.000000  \n",
            "75%                           10083.000000  \n",
            "max                          871200.000000  \n"
          ]
        }
      ]
    },
    {
      "cell_type": "markdown",
      "source": [
        "#Duplicate Removal"
      ],
      "metadata": {
        "id": "v6QByggBiXOr"
      }
    },
    {
      "cell_type": "code",
      "source": [
        "# Check for and remove duplicate rows\n",
        "print(f\"\\nNumber of duplicate rows before removal: {df.duplicated().sum()}\")\n",
        "df.drop_duplicates(inplace=True)\n",
        "print(f\"Number of duplicate rows after removal: {df.duplicated().sum()}\")"
      ],
      "metadata": {
        "colab": {
          "base_uri": "https://localhost:8080/"
        },
        "id": "-UbZLgE4ilhp",
        "outputId": "4011bd19-a759-4f76-da43-353c2a069737"
      },
      "execution_count": null,
      "outputs": [
        {
          "output_type": "stream",
          "name": "stdout",
          "text": [
            "\n",
            "Number of duplicate rows before removal: 0\n",
            "Number of duplicate rows after removal: 0\n"
          ]
        }
      ]
    },
    {
      "cell_type": "code",
      "source": [
        "# Check for and remove duplicate columns (based on values)\n",
        "def identify_duplicate_columns(df):\n",
        "    duplicate_cols = set()\n",
        "    for i in range(df.shape[1]):\n",
        "        col1 = df.iloc[:, i]\n",
        "        for j in range(i + 1, df.shape[1]):\n",
        "            col2 = df.iloc[:, j]\n",
        "            if col1.equals(col2):\n",
        "                duplicate_cols.add(df.columns[j])\n",
        "    return list(duplicate_cols)\n",
        "duplicate_columns = identify_duplicate_columns(df)\n",
        "print(f\"\\nDuplicate columns found: {duplicate_columns}\")\n",
        "df.drop(columns=duplicate_columns, inplace=True)\n",
        "print(f\"Number of columns after removing duplicates: {df.shape[1]}\")"
      ],
      "metadata": {
        "colab": {
          "base_uri": "https://localhost:8080/"
        },
        "id": "iU_-l1Ufi2_t",
        "outputId": "f853b060-f480-4ca6-b971-a6a1fc410f71"
      },
      "execution_count": null,
      "outputs": [
        {
          "output_type": "stream",
          "name": "stdout",
          "text": [
            "\n",
            "Duplicate columns found: []\n",
            "Number of columns after removing duplicates: 21\n"
          ]
        }
      ]
    },
    {
      "cell_type": "markdown",
      "source": [
        "#Handling Missing Values"
      ],
      "metadata": {
        "id": "5Dw_1eKWjtZ0"
      }
    },
    {
      "cell_type": "code",
      "source": [
        "print(\"\\nMissing values per column before imputation:\")\n",
        "print(df.isnull().sum())"
      ],
      "metadata": {
        "colab": {
          "base_uri": "https://localhost:8080/"
        },
        "id": "yvHbhidsjvBC",
        "outputId": "7577568b-08a2-42d0-b572-929884b3791f"
      },
      "execution_count": null,
      "outputs": [
        {
          "output_type": "stream",
          "name": "stdout",
          "text": [
            "\n",
            "Missing values per column before imputation:\n",
            "ID                                               0\n",
            "Date House was Sold                              0\n",
            "Sale Price                                       4\n",
            "No of Bedrooms                                   0\n",
            "No of Bathrooms                                  4\n",
            "Flat Area (in Sqft)                              9\n",
            "Lot Area (in Sqft)                               9\n",
            "No of Floors                                     0\n",
            "Waterfront View                                  0\n",
            "No of Times Visited                          19489\n",
            "Condition of the House                           0\n",
            "Overall Grade                                    0\n",
            "Area of the House from Basement (in Sqft)        3\n",
            "Basement Area (in Sqft)                          0\n",
            "Age of House (in Years)                          0\n",
            "Renovated Year                                   0\n",
            "Zipcode                                          1\n",
            "Latitude                                         1\n",
            "Longitude                                        1\n",
            "Living Area after Renovation (in Sqft)           1\n",
            "Lot Area after Renovation (in Sqft)              0\n",
            "dtype: int64\n"
          ]
        }
      ]
    },
    {
      "cell_type": "code",
      "source": [
        "# Identify numerical and categorical columns\n",
        "numerical_cols = df.select_dtypes(include=np.number).columns.tolist()\n",
        "categorical_cols = df.select_dtypes(include='object').columns.tolist()\n",
        "# Remove SalePrice from numerical columns\n",
        "if 'SalePrice' in numerical_cols:\n",
        "    numerical_cols.remove('SalePrice')"
      ],
      "metadata": {
        "id": "8RXhmo_Wj3uh"
      },
      "execution_count": null,
      "outputs": []
    },
    {
      "cell_type": "code",
      "source": [
        "# Impute missing values in numerical columns using the median\n",
        "for col in numerical_cols:\n",
        "    if df[col].isnull().any():\n",
        "        median_val = df[col].median()\n",
        "        df[col].fillna(median_val, inplace=True)\n",
        "        print(f\"Numerical column '{col}': Missing values imputed with median ({median_val}).\")"
      ],
      "metadata": {
        "id": "CPFDVRv7kSmu"
      },
      "execution_count": null,
      "outputs": []
    },
    {
      "cell_type": "code",
      "source": [
        "# Impute missing values in categorical columns using the mode\n",
        "for col in categorical_cols:\n",
        "    if df[col].isnull().any():\n",
        "        mode_val = df[col].mode()[0]\n",
        "        df[col].fillna(mode_val, inplace=True)\n",
        "        print(f\"Categorical column '{col}': Missing values imputed with mode ('{mode_val}').\")\n",
        "\n",
        "print(\"\\nMissing values per column after imputation:\")\n",
        "print(df.isnull().sum())"
      ],
      "metadata": {
        "colab": {
          "base_uri": "https://localhost:8080/"
        },
        "id": "6q5iDteDkbk6",
        "outputId": "fb4a60af-7482-4e4f-a6ed-32acd4eaa300"
      },
      "execution_count": null,
      "outputs": [
        {
          "output_type": "stream",
          "name": "stdout",
          "text": [
            "\n",
            "Missing values per column after imputation:\n",
            "ID                                           0\n",
            "Date House was Sold                          0\n",
            "Sale Price                                   0\n",
            "No of Bedrooms                               0\n",
            "No of Bathrooms                              0\n",
            "Flat Area (in Sqft)                          0\n",
            "Lot Area (in Sqft)                           0\n",
            "No of Floors                                 0\n",
            "Waterfront View                              0\n",
            "No of Times Visited                          0\n",
            "Condition of the House                       0\n",
            "Overall Grade                                0\n",
            "Area of the House from Basement (in Sqft)    0\n",
            "Basement Area (in Sqft)                      0\n",
            "Age of House (in Years)                      0\n",
            "Renovated Year                               0\n",
            "Zipcode                                      0\n",
            "Latitude                                     0\n",
            "Longitude                                    0\n",
            "Living Area after Renovation (in Sqft)       0\n",
            "Lot Area after Renovation (in Sqft)          0\n",
            "dtype: int64\n"
          ]
        }
      ]
    },
    {
      "cell_type": "markdown",
      "source": [
        "#Scaling Numerical Variables"
      ],
      "metadata": {
        "id": "sxeLi5Iqkjc0"
      }
    },
    {
      "cell_type": "code",
      "source": [
        "# Initialize MinMaxScaler\n",
        "scaler = MinMaxScaler()\n",
        "# Scale numerical columns\n",
        "df[numerical_cols] = scaler.fit_transform(df[numerical_cols])\n",
        "print(\"\\nScaled numerical features using Min-Max scaling.\")\n",
        "print(df[numerical_cols].head())"
      ],
      "metadata": {
        "colab": {
          "base_uri": "https://localhost:8080/"
        },
        "id": "md5iiANikk0y",
        "outputId": "0362feab-4bff-4b96-9bf3-64a91900c246"
      },
      "execution_count": null,
      "outputs": [
        {
          "output_type": "stream",
          "name": "stdout",
          "text": [
            "\n",
            "Scaled numerical features using Min-Max scaling.\n",
            "         ID  Sale Price  No of Bedrooms  No of Bathrooms  Flat Area (in Sqft)  \\\n",
            "0  0.720103    0.019266        0.090909          0.12500             0.067170   \n",
            "1  0.647853    0.060721        0.090909          0.28125             0.172075   \n",
            "2  0.568795    0.013770        0.060606          0.12500             0.036226   \n",
            "3  0.251157    0.069377        0.121212          0.37500             0.126038   \n",
            "4  0.197333    0.057049        0.090909          0.25000             0.104906   \n",
            "\n",
            "   Lot Area (in Sqft)  No of Floors  Overall Grade  \\\n",
            "0            0.003108           0.0       0.666667   \n",
            "1            0.004072           0.4       0.666667   \n",
            "2            0.005743           0.0       0.555556   \n",
            "3            0.002714           0.0       0.666667   \n",
            "4            0.004579           0.0       0.777778   \n",
            "\n",
            "   Area of the House from Basement (in Sqft)  Basement Area (in Sqft)  \\\n",
            "0                                   0.097588                 0.000000   \n",
            "1                                   0.206140                 0.082988   \n",
            "2                                   0.052632                 0.000000   \n",
            "3                                   0.083333                 0.188797   \n",
            "4                                   0.152412                 0.000000   \n",
            "\n",
            "   Age of House (in Years)  Renovated Year   Zipcode  Latitude  Longitude  \\\n",
            "0                 0.521739        0.000000  0.893939  0.571498   0.217608   \n",
            "1                 0.556522        0.988089  0.626263  0.908959   0.166113   \n",
            "2                 0.713043        0.000000  0.136364  0.936143   0.237542   \n",
            "3                 0.434783        0.000000  0.681818  0.586939   0.104651   \n",
            "4                 0.243478        0.000000  0.368687  0.741354   0.393688   \n",
            "\n",
            "   Living Area after Renovation (in Sqft)  Lot Area after Renovation (in Sqft)  \n",
            "0                                0.161934                             0.005742  \n",
            "1                                0.222165                             0.008027  \n",
            "2                                0.399415                             0.008513  \n",
            "3                                0.165376                             0.004996  \n",
            "4                                0.241094                             0.007871  \n"
          ]
        }
      ]
    },
    {
      "cell_type": "markdown",
      "source": [
        "#Encoding Categorical Variables"
      ],
      "metadata": {
        "id": "v9pkC7MUlTyh"
      }
    },
    {
      "cell_type": "code",
      "source": [
        "# Identify nominal and potentially ordinal categorical columns (you might need more domain knowledge here)\n",
        "nominal_categorical_cols = []\n",
        "ordinal_categorical_cols = []"
      ],
      "metadata": {
        "id": "8GHrqedvlVjj"
      },
      "execution_count": null,
      "outputs": []
    },
    {
      "cell_type": "code",
      "source": [
        "for col in categorical_cols:\n",
        "    if df[col].nunique() > 5:  # Assuming higher cardinality might suggest nominal\n",
        "        nominal_categorical_cols.append(col)\n",
        "    else:\n",
        "        ordinal_categorical_cols.append(col)\n",
        "print(\"\\nNominal categorical columns for One-Hot Encoding:\", nominal_categorical_cols)\n",
        "print(\"Potentially ordinal categorical columns for Label Encoding:\", ordinal_categorical_cols)"
      ],
      "metadata": {
        "colab": {
          "base_uri": "https://localhost:8080/"
        },
        "id": "3crPLuADlk8j",
        "outputId": "f3c4f1ba-e20a-47fe-bee5-bbe84c5cdf20"
      },
      "execution_count": null,
      "outputs": [
        {
          "output_type": "stream",
          "name": "stdout",
          "text": [
            "\n",
            "Nominal categorical columns for One-Hot Encoding: ['Date House was Sold']\n",
            "Potentially ordinal categorical columns for Label Encoding: ['Waterfront View', 'No of Times Visited', 'Condition of the House']\n"
          ]
        }
      ]
    },
    {
      "cell_type": "code",
      "source": [
        "# One-Hot Encode nominal categorical columns\n",
        "encoder_ohe = OneHotEncoder(handle_unknown='ignore', sparse_output=False)\n",
        "encoded_nominal = encoder_ohe.fit_transform(df[nominal_categorical_cols])\n",
        "encoded_nominal_df = pd.DataFrame(encoded_nominal, columns=encoder_ohe.get_feature_names_out(nominal_categorical_cols))\n",
        "df = pd.concat([df.drop(columns=nominal_categorical_cols), encoded_nominal_df], axis=1)\n",
        "print(\"\\nApplied One-Hot Encoding to nominal features.\")\n",
        "print(df.head())"
      ],
      "metadata": {
        "colab": {
          "base_uri": "https://localhost:8080/"
        },
        "id": "mutdvU9ZmE6r",
        "outputId": "38c7905b-3bb6-4742-8cf5-12e91d1527a0"
      },
      "execution_count": null,
      "outputs": [
        {
          "output_type": "stream",
          "name": "stdout",
          "text": [
            "\n",
            "Applied One-Hot Encoding to nominal features.\n",
            "         ID  Sale Price  No of Bedrooms  No of Bathrooms  Flat Area (in Sqft)  \\\n",
            "0  0.720103    0.019266        0.090909          0.12500             0.067170   \n",
            "1  0.647853    0.060721        0.090909          0.28125             0.172075   \n",
            "2  0.568795    0.013770        0.060606          0.12500             0.036226   \n",
            "3  0.251157    0.069377        0.121212          0.37500             0.126038   \n",
            "4  0.197333    0.057049        0.090909          0.25000             0.104906   \n",
            "\n",
            "   Lot Area (in Sqft)  No of Floors Waterfront View No of Times Visited  \\\n",
            "0            0.003108           0.0              No               Twice   \n",
            "1            0.004072           0.4              No               Twice   \n",
            "2            0.005743           0.0              No               Twice   \n",
            "3            0.002714           0.0              No               Twice   \n",
            "4            0.004579           0.0              No               Twice   \n",
            "\n",
            "  Condition of the House  ...  Date House was Sold_14 June 2017  \\\n",
            "0                   Fair  ...                               0.0   \n",
            "1                   Fair  ...                               0.0   \n",
            "2                   Fair  ...                               0.0   \n",
            "3              Excellent  ...                               0.0   \n",
            "4                   Fair  ...                               0.0   \n",
            "\n",
            "   Date House was Sold_14 May 2017  Date House was Sold_14 November 2017  \\\n",
            "0                              0.0                                   0.0   \n",
            "1                              0.0                                   0.0   \n",
            "2                              0.0                                   0.0   \n",
            "3                              0.0                                   0.0   \n",
            "4                              0.0                                   0.0   \n",
            "\n",
            "   Date House was Sold_14 October 2017  Date House was Sold_14 September 2017  \\\n",
            "0                                  1.0                                    0.0   \n",
            "1                                  0.0                                    0.0   \n",
            "2                                  0.0                                    0.0   \n",
            "3                                  0.0                                    0.0   \n",
            "4                                  0.0                                    0.0   \n",
            "\n",
            "   Date House was Sold_15 April 2016  Date House was Sold_15 February 2016  \\\n",
            "0                                0.0                                   0.0   \n",
            "1                                0.0                                   0.0   \n",
            "2                                0.0                                   1.0   \n",
            "3                                0.0                                   0.0   \n",
            "4                                0.0                                   1.0   \n",
            "\n",
            "   Date House was Sold_15 January 2016  Date House was Sold_15 March 2016  \\\n",
            "0                                  0.0                                0.0   \n",
            "1                                  0.0                                0.0   \n",
            "2                                  0.0                                0.0   \n",
            "3                                  0.0                                0.0   \n",
            "4                                  0.0                                0.0   \n",
            "\n",
            "   Date House was Sold_15 May 2016  \n",
            "0                              0.0  \n",
            "1                              0.0  \n",
            "2                              0.0  \n",
            "3                              0.0  \n",
            "4                              0.0  \n",
            "\n",
            "[5 rows x 33 columns]\n"
          ]
        }
      ]
    },
    {
      "cell_type": "code",
      "source": [
        "# Label Encode potentially ordinal categorical columns\n",
        "encoder_le = LabelEncoder()\n",
        "for col in ordinal_categorical_cols:\n",
        "    df[col] = encoder_le.fit_transform(df[col])\n",
        "print(\"\\nApplied Label Encoding to potentially ordinal features.\")\n",
        "print(df[ordinal_categorical_cols].head())"
      ],
      "metadata": {
        "colab": {
          "base_uri": "https://localhost:8080/"
        },
        "id": "fCI3-3RBmsmS",
        "outputId": "d530026e-8f38-4983-811d-0a8f1640f971"
      },
      "execution_count": null,
      "outputs": [
        {
          "output_type": "stream",
          "name": "stdout",
          "text": [
            "\n",
            "Applied Label Encoding to potentially ordinal features.\n",
            "   Waterfront View  No of Times Visited  Condition of the House\n",
            "0                0                    3                       2\n",
            "1                0                    3                       2\n",
            "2                0                    3                       2\n",
            "3                0                    3                       1\n",
            "4                0                    3                       2\n"
          ]
        }
      ]
    },
    {
      "cell_type": "markdown",
      "source": [
        "#Outlier Removal"
      ],
      "metadata": {
        "id": "ZKh-24IMmuNL"
      }
    },
    {
      "cell_type": "code",
      "source": [
        "# Outlier detection using IQR method for numerical columns\n",
        "outlier_threshold = 3\n",
        "print(\"\\nOutlier analysis using IQR:\")\n",
        "for col in numerical_cols:\n",
        "    Q1 = df[col].quantile(0.25)\n",
        "    Q3 = df[col].quantile(0.75)\n",
        "    IQR = Q3 - Q1\n",
        "    lower_bound = Q1 - outlier_threshold * IQR\n",
        "    upper_bound = Q3 + outlier_threshold * IQR\n",
        "    outliers = df[(df[col] < lower_bound) | (df[col] > upper_bound)]\n",
        "    print(f\"Column '{col}': Number of outliers = {outliers.shape[0]}\")\n",
        "    # Removing outliers (you might want to analyze these outliers further before removal)\n",
        "    df = df[~((df[col] < lower_bound) | (df[col] > upper_bound))]\n",
        "    print(f\"Column '{col}': Shape after outlier removal = {df.shape}\")"
      ],
      "metadata": {
        "colab": {
          "base_uri": "https://localhost:8080/"
        },
        "id": "xP55mSmWmzyQ",
        "outputId": "25be7386-41c9-4c82-d7d2-0bae0fc922d7"
      },
      "execution_count": null,
      "outputs": [
        {
          "output_type": "stream",
          "name": "stdout",
          "text": [
            "\n",
            "Outlier analysis using IQR:\n",
            "Column 'ID': Number of outliers = 0\n",
            "Column 'ID': Shape after outlier removal = (20000, 33)\n",
            "Column 'Sale Price': Number of outliers = 402\n",
            "Column 'Sale Price': Shape after outlier removal = (19598, 33)\n",
            "Column 'No of Bedrooms': Number of outliers = 20\n",
            "Column 'No of Bedrooms': Shape after outlier removal = (19578, 33)\n",
            "Column 'No of Bathrooms': Number of outliers = 2\n",
            "Column 'No of Bathrooms': Shape after outlier removal = (19576, 33)\n",
            "Column 'Flat Area (in Sqft)': Number of outliers = 25\n",
            "Column 'Flat Area (in Sqft)': Shape after outlier removal = (19551, 33)\n",
            "Column 'Lot Area (in Sqft)': Number of outliers = 430\n",
            "Column 'Lot Area (in Sqft)': Shape after outlier removal = (19121, 33)\n",
            "Column 'No of Floors': Number of outliers = 0\n",
            "Column 'No of Floors': Shape after outlier removal = (19121, 33)\n",
            "Column 'Overall Grade': Number of outliers = 2\n",
            "Column 'Overall Grade': Shape after outlier removal = (19119, 33)\n",
            "Column 'Area of the House from Basement (in Sqft)': Number of outliers = 9\n",
            "Column 'Area of the House from Basement (in Sqft)': Shape after outlier removal = (19110, 33)\n",
            "Column 'Basement Area (in Sqft)': Number of outliers = 12\n",
            "Column 'Basement Area (in Sqft)': Shape after outlier removal = (19098, 33)\n",
            "Column 'Age of House (in Years)': Number of outliers = 0\n",
            "Column 'Age of House (in Years)': Shape after outlier removal = (19098, 33)\n",
            "Column 'Renovated Year': Number of outliers = 727\n",
            "Column 'Renovated Year': Shape after outlier removal = (18371, 33)\n",
            "Column 'Zipcode': Number of outliers = 0\n",
            "Column 'Zipcode': Shape after outlier removal = (18371, 33)\n",
            "Column 'Latitude': Number of outliers = 0\n",
            "Column 'Latitude': Shape after outlier removal = (18371, 33)\n",
            "Column 'Longitude': Number of outliers = 10\n",
            "Column 'Longitude': Shape after outlier removal = (18361, 33)\n",
            "Column 'Living Area after Renovation (in Sqft)': Number of outliers = 15\n",
            "Column 'Living Area after Renovation (in Sqft)': Shape after outlier removal = (18346, 33)\n",
            "Column 'Lot Area after Renovation (in Sqft)': Number of outliers = 85\n",
            "Column 'Lot Area after Renovation (in Sqft)': Shape after outlier removal = (18261, 33)\n"
          ]
        }
      ]
    },
    {
      "cell_type": "markdown",
      "source": [
        "#Train-Test Split"
      ],
      "metadata": {
        "id": "8cO918d_oDit"
      }
    },
    {
      "cell_type": "code",
      "source": [
        "# Separate target variable\n",
        "X = df.drop(columns=['Sale Price'])\n",
        "y = df['Sale Price']\n",
        "# Split the data\n",
        "X_train, X_test, y_train, y_test = train_test_split(X, y, test_size=0.2, random_state=42)\n",
        "\n",
        "print(\"\\nTrain-Test Split:\")\n",
        "print(f\"X_train shape: {X_train.shape}\")\n",
        "print(f\"X_test shape: {X_test.shape}\")\n",
        "print(f\"y_train shape: {y_train.shape}\")\n",
        "print(f\"y_test shape: {y_test.shape}\")"
      ],
      "metadata": {
        "colab": {
          "base_uri": "https://localhost:8080/"
        },
        "id": "j4pmrV-5oFQC",
        "outputId": "9c60e88d-557a-4037-8809-94995c097186"
      },
      "execution_count": null,
      "outputs": [
        {
          "output_type": "stream",
          "name": "stdout",
          "text": [
            "\n",
            "Train-Test Split:\n",
            "X_train shape: (14608, 32)\n",
            "X_test shape: (3653, 32)\n",
            "y_train shape: (14608,)\n",
            "y_test shape: (3653,)\n"
          ]
        }
      ]
    }
  ]
}