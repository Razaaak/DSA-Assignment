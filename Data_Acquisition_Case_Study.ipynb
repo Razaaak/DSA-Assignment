{
  "nbformat": 4,
  "nbformat_minor": 0,
  "metadata": {
    "colab": {
      "provenance": []
    },
    "kernelspec": {
      "name": "python3",
      "display_name": "Python 3"
    },
    "language_info": {
      "name": "python"
    }
  },
  "cells": [
    {
      "cell_type": "markdown",
      "source": [
        "#Data Acquisition Case Study"
      ],
      "metadata": {
        "id": "6aRvzWzbhcnp"
      }
    },
    {
      "cell_type": "markdown",
      "source": [
        "## Q1. Write Python code to create a new file named \"sample_data.txt\" in your documents folder and write the following content to it\n",
        "\n",
        "ICTAK\n",
        "\n",
        "Thejaswini,\n",
        "\n",
        "Technopark Rd,\n",
        "\n",
        "Technopark Campus,\n",
        "\n",
        "Thiruvananthapuram,\n",
        "\n",
        "Kerala 695581"
      ],
      "metadata": {
        "id": "734JDyUNq8fH"
      }
    },
    {
      "cell_type": "code",
      "source": [
        "# Write your code here"
      ],
      "metadata": {
        "id": "ieKhqBr-nl7s"
      },
      "execution_count": null,
      "outputs": []
    },
    {
      "cell_type": "markdown",
      "source": [
        "## Q2. Write Python code to read and print the contents in \"sample_data.txt\""
      ],
      "metadata": {
        "id": "aJ6hQOJpimNv"
      }
    },
    {
      "cell_type": "code",
      "source": [
        "# Write your code here"
      ],
      "metadata": {
        "id": "vRnilPQgnrPG"
      },
      "execution_count": null,
      "outputs": []
    },
    {
      "cell_type": "markdown",
      "source": [
        "## Q3. Write Python code to check if \"sample_data.txt\" exists in documents folder"
      ],
      "metadata": {
        "id": "9aHquDcErda-"
      }
    },
    {
      "cell_type": "code",
      "source": [
        "# Write your code here"
      ],
      "metadata": {
        "id": "vY5TEsxunsKh"
      },
      "execution_count": null,
      "outputs": []
    },
    {
      "cell_type": "markdown",
      "source": [
        "## Q4: Save the following dataframe content to a CSV file (data.csv) in your downloads folder"
      ],
      "metadata": {
        "id": "BCWITkmopblI"
      }
    },
    {
      "cell_type": "code",
      "execution_count": null,
      "metadata": {
        "id": "r3THwBOGpP9F"
      },
      "outputs": [],
      "source": [
        "import pandas as pd\n",
        "\n",
        "data = {\"Id\": [1, 2, 3],\n",
        "        \"Name\": [\"Alice\", \"Bob\", \"Charlie\"],\n",
        "        \"Subject\": [\"Science\", \"Maths\", \"History\"]}\n",
        "df = pd.DataFrame(data)"
      ]
    },
    {
      "cell_type": "code",
      "source": [
        "# Write your code here"
      ],
      "metadata": {
        "id": "Joc7XafnntaG"
      },
      "execution_count": null,
      "outputs": []
    },
    {
      "cell_type": "markdown",
      "source": [
        "## Q5: Save the above dataframe content to an Excel (data.xlsx, sheet name: Sheet1) file in your documents folder"
      ],
      "metadata": {
        "id": "VF0nJjGElq0A"
      }
    },
    {
      "cell_type": "code",
      "source": [
        "# Write your code here"
      ],
      "metadata": {
        "id": "ZtOFb7ZJnu1m"
      },
      "execution_count": null,
      "outputs": []
    },
    {
      "cell_type": "markdown",
      "source": [
        "## Q6. Write code to get the list of files in your Downloads folder and save it to a CSV file name \"download_list.csv\""
      ],
      "metadata": {
        "id": "amF6kxMQmdgF"
      }
    },
    {
      "cell_type": "code",
      "source": [
        "# Write your code here"
      ],
      "metadata": {
        "id": "nVP86z3dnvwz"
      },
      "execution_count": null,
      "outputs": []
    },
    {
      "cell_type": "markdown",
      "source": [
        "## Q7. Write Python code to save the contents of the given random_array variable as a numpy file"
      ],
      "metadata": {
        "id": "vR7I4R5bnV2w"
      }
    },
    {
      "cell_type": "code",
      "source": [
        "import numpy as np\n",
        "random_array = np.random.rand(10, 10)"
      ],
      "metadata": {
        "id": "vHXYRxnDnJzA"
      },
      "execution_count": null,
      "outputs": []
    },
    {
      "cell_type": "code",
      "source": [
        "# Write your code here"
      ],
      "metadata": {
        "id": "ihhSKJF9n3NP"
      },
      "execution_count": null,
      "outputs": []
    },
    {
      "cell_type": "markdown",
      "source": [
        "## Q8. Write python code to save the contents of the above numpy file as text file named \"random.txt\" with a delimitter of \";\" to Documents folder"
      ],
      "metadata": {
        "id": "V7XfHgGAzNIl"
      }
    },
    {
      "cell_type": "code",
      "source": [
        "# Write your code here"
      ],
      "metadata": {
        "id": "Du3LRbaKbpeg"
      },
      "execution_count": null,
      "outputs": []
    },
    {
      "cell_type": "markdown",
      "source": [
        "## Download and analyze Bike Sharing Dataset (hour.csv) for UCI Irvin Repository (https://archive.ics.uci.edu/dataset/275/bike+sharing+dataset) and answer the following questions"
      ],
      "metadata": {
        "id": "nJSaX0Rg151y"
      }
    },
    {
      "cell_type": "markdown",
      "source": [
        "## Q9. What is the size of the dataset? (Number of rows and columns)\n",
        "\n"
      ],
      "metadata": {
        "id": "-wt4mxq32U6H"
      }
    },
    {
      "cell_type": "code",
      "source": [
        "# Write your code here"
      ],
      "metadata": {
        "id": "Pj0I0JhF2EEg"
      },
      "execution_count": null,
      "outputs": []
    },
    {
      "cell_type": "markdown",
      "source": [
        "## Q10. What are the data types of each column?\n"
      ],
      "metadata": {
        "id": "GbDnC_i438m8"
      }
    },
    {
      "cell_type": "code",
      "source": [
        "# Write your code here"
      ],
      "metadata": {
        "id": "_YJIqJEZ3-DC"
      },
      "execution_count": null,
      "outputs": []
    },
    {
      "cell_type": "markdown",
      "source": [
        "## Q11. Are there any missing values in the dataset? If so, which columns have missing values and how many?"
      ],
      "metadata": {
        "id": "zi0jHMq-3_NI"
      }
    },
    {
      "cell_type": "code",
      "source": [
        "# Write your code here"
      ],
      "metadata": {
        "id": "mct7F2M-3-kQ"
      },
      "execution_count": null,
      "outputs": []
    },
    {
      "cell_type": "markdown",
      "source": [
        "## Q.12. For the windspeed column, calculate the mean, median, and standard deviation."
      ],
      "metadata": {
        "id": "Ew__56Iq4BMK"
      }
    },
    {
      "cell_type": "code",
      "source": [
        "# Write your code here"
      ],
      "metadata": {
        "id": "ucijLTNA4Clr"
      },
      "execution_count": null,
      "outputs": []
    },
    {
      "cell_type": "markdown",
      "source": [
        "## Q13. Identify any potential outliers in a numerical column of your choice. Explain your approach.\n"
      ],
      "metadata": {
        "id": "3dHaYtuP4C78"
      }
    },
    {
      "cell_type": "code",
      "source": [
        "# Write your code here"
      ],
      "metadata": {
        "id": "nVkU-okb4EiU"
      },
      "execution_count": null,
      "outputs": []
    },
    {
      "cell_type": "markdown",
      "source": [
        "## Q.14 Find the correlation between numerical columns and discuss any interesting relationships."
      ],
      "metadata": {
        "id": "14sUq8ZF4E88"
      }
    },
    {
      "cell_type": "code",
      "source": [
        "# Write your code here"
      ],
      "metadata": {
        "id": "jnAOuuwt4Hmb"
      },
      "execution_count": null,
      "outputs": []
    },
    {
      "cell_type": "markdown",
      "source": [
        "## Q.15 Based on your analysis, provide a brief summary of any insights or patterns you discovered in the dataset."
      ],
      "metadata": {
        "id": "ru-xlbd44IAY"
      }
    },
    {
      "cell_type": "code",
      "source": [
        "# Write your code here"
      ],
      "metadata": {
        "id": "15NUIdxK4I03"
      },
      "execution_count": null,
      "outputs": []
    },
    {
      "cell_type": "markdown",
      "source": [
        "## Q.16 In which season (Spring, Summer, Fall, Winter) people rented bikes the most?"
      ],
      "metadata": {
        "id": "iMGro15Q5WhF"
      }
    },
    {
      "cell_type": "code",
      "source": [
        "# Write your code here"
      ],
      "metadata": {
        "id": "KhlVV_bK5jxm"
      },
      "execution_count": null,
      "outputs": []
    },
    {
      "cell_type": "markdown",
      "source": [
        "## Q.17 What is the peak hour in which bike rents the most?"
      ],
      "metadata": {
        "id": "eudb_1Lb5sVc"
      }
    },
    {
      "cell_type": "code",
      "source": [
        "# Write your code here"
      ],
      "metadata": {
        "id": "p0xSgv8g50yt"
      },
      "execution_count": null,
      "outputs": []
    },
    {
      "cell_type": "markdown",
      "source": [
        "## Q.18 In which day of a week bikes rents out most?"
      ],
      "metadata": {
        "id": "y7rArqGQ6ji4"
      }
    },
    {
      "cell_type": "code",
      "source": [
        "# Write your code here"
      ],
      "metadata": {
        "id": "6GPCbpsx6oYE"
      },
      "execution_count": null,
      "outputs": []
    },
    {
      "cell_type": "markdown",
      "source": [
        "## Q.19 In which hour Casual users rents bikes the most?"
      ],
      "metadata": {
        "id": "bFO_Twk66qw-"
      }
    },
    {
      "cell_type": "code",
      "source": [
        "# Write your code here"
      ],
      "metadata": {
        "id": "59CHoEUt66GR"
      },
      "execution_count": null,
      "outputs": []
    },
    {
      "cell_type": "markdown",
      "source": [
        "## Q.20 What is the maximum temperature observed in each of the seasons?"
      ],
      "metadata": {
        "id": "wtvgNN-U69rh"
      }
    },
    {
      "cell_type": "code",
      "source": [
        "# Write your code here"
      ],
      "metadata": {
        "id": "U_NwDHv57tLT"
      },
      "execution_count": null,
      "outputs": []
    }
  ]
}